{
 "cells": [
  {
   "metadata": {
    "ExecuteTime": {
     "end_time": "2025-05-21T15:02:36.818792400Z",
     "start_time": "2025-05-21T15:02:31.426807Z"
    }
   },
   "cell_type": "code",
   "source": [
    "import org.jetbrains.letsPlot.scale.scaleXDateTime\n",
    "import java.io.File\n",
    "%use kandy\n",
    "\n",
    "fun  String.readFile() = File(this).readLines()\n",
    "\n",
    "val lines = \"src\\\\main\\\\resources\\\\debt\\\\FYFSD.csv\".readFile()\n",
    "\n",
    "//lines.forEach { println(it) }\n",
    "val (years,debts) =lines.drop(1).map{\n",
    "    val year = it.split(\",\")[0].split(\"-\")[0].toInt()\n",
    "    val debt = it.split(\",\")[1].toLong()\n",
    "    Pair(year,debt)\n",
    "}.unzip()\n",
    "plot(){\n",
    "    line {\n",
    "        x(years){\n",
    "            axis.name = \"year\"\n",
    "        }\n",
    "        y(debts)\n",
    "    }\n",
    "}\n",
    "println(debts.sum())\n",
    "\n"
   ],
   "outputs": [
    {
     "name": "stdout",
     "output_type": "stream",
     "text": [
      "-25824728\r\n"
     ]
    }
   ],
   "execution_count": 17
  },
  {
   "metadata": {},
   "cell_type": "code",
   "outputs": [],
   "execution_count": null,
   "source": ""
  }
 ],
 "metadata": {
  "kernelspec": {
   "display_name": "Kotlin",
   "language": "kotlin",
   "name": "kotlin"
  },
  "language_info": {
   "name": "kotlin",
   "version": "1.9.23",
   "mimetype": "text/x-kotlin",
   "file_extension": ".kt",
   "pygments_lexer": "kotlin",
   "codemirror_mode": "text/x-kotlin",
   "nbconvert_exporter": ""
  }
 },
 "nbformat": 4,
 "nbformat_minor": 0
}
